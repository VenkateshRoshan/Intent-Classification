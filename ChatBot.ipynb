{
 "cells": [
  {
   "cell_type": "code",
   "execution_count": 1,
   "metadata": {},
   "outputs": [
    {
     "name": "stderr",
     "output_type": "stream",
     "text": [
      "Using TensorFlow backend.\n"
     ]
    }
   ],
   "source": [
    "import pandas as pd\n",
    "from nltk.corpus import stopwords\n",
    "from nltk.tokenize import word_tokenize\n",
    "from nltk.stem.lancaster import LancasterStemmer\n",
    "import nltk\n",
    "import re\n",
    "import keras\n",
    "from sklearn.preprocessing import OneHotEncoder\n",
    "import matplotlib.pyplot as plt\n",
    "from keras.preprocessing.text import Tokenizer\n",
    "from keras.preprocessing.sequence import pad_sequences\n",
    "from keras.utils import to_categorical\n",
    "from keras.models import Sequential, load_model\n",
    "from keras.layers import Dense, LSTM, Bidirectional, Embedding, Dropout\n",
    "from keras.callbacks import ModelCheckpoint\n",
    "#from tensorflow.keras.models import Sequential\n",
    "from keras.layers.embeddings import Embedding\n",
    "#from tensorflow.keras import backend\n",
    "from keras.models import Sequential\n",
    "from keras.layers import Flatten\n",
    "from keras.layers import Dense\n",
    "from keras.layers import Conv2D\n",
    "from keras.layers import MaxPooling2D\n",
    "from keras.callbacks import TensorBoard\n",
    "#import tensorflow\n",
    "from warnings import filterwarnings\n",
    "filterwarnings('ignore')"
   ]
  },
  {
   "cell_type": "code",
   "execution_count": 113,
   "metadata": {},
   "outputs": [],
   "source": [
    "def load_dataset(filename):\n",
    "  df = pd.read_csv(filename, encoding = \"latin1\", names = [\"Sentence\", \"Intent\"])\n",
    "  print(df.head())\n",
    "  intent = df[\"Intent\"]\n",
    "  Intents = list(set(intent))\n",
    "  sentences = list(df[\"Sentence\"])\n",
    "  \n",
    "  return (intent, unique_intent, sentences)"
   ]
  },
  {
   "cell_type": "code",
   "execution_count": 114,
   "metadata": {},
   "outputs": [
    {
     "name": "stdout",
     "output_type": "stream",
     "text": [
      "                Sentence          Intent\n",
      "0       Need help pleese  commonQ.assist\n",
      "1              Need help  commonQ.assist\n",
      "2       I need some info  commonQ.assist\n",
      "3      Will you help me?  commonQ.assist\n",
      "4  What else can you do?  commonQ.assist\n"
     ]
    }
   ],
   "source": [
    "intent, unique_intent, sentences = load_dataset(\"Dataset.csv\")"
   ]
  },
  {
   "cell_type": "code",
   "execution_count": 115,
   "metadata": {},
   "outputs": [],
   "source": [
    "stemmer = LancasterStemmer()"
   ]
  },
  {
   "cell_type": "code",
   "execution_count": 116,
   "metadata": {},
   "outputs": [
    {
     "name": "stderr",
     "output_type": "stream",
     "text": [
      "[nltk_data] Downloading package stopwords to\n",
      "[nltk_data]     C:\\Users\\venkey\\AppData\\Roaming\\nltk_data...\n",
      "[nltk_data]   Package stopwords is already up-to-date!\n",
      "[nltk_data] Downloading package punkt to\n",
      "[nltk_data]     C:\\Users\\venkey\\AppData\\Roaming\\nltk_data...\n",
      "[nltk_data]   Package punkt is already up-to-date!\n"
     ]
    },
    {
     "data": {
      "text/plain": [
       "True"
      ]
     },
     "execution_count": 116,
     "metadata": {},
     "output_type": "execute_result"
    }
   ],
   "source": [
    "nltk.download(\"stopwords\")\n",
    "nltk.download(\"punkt\")"
   ]
  },
  {
   "cell_type": "code",
   "execution_count": 117,
   "metadata": {},
   "outputs": [],
   "source": [
    "def cleaning(sentences):\n",
    "  words = []\n",
    "  for s in sentences:\n",
    "    clean = re.sub(r'[^ a-z A-Z 0-9]', \" \", s)\n",
    "    w = word_tokenize(clean)\n",
    "    #stemming\n",
    "    words.append([i.lower() for i in w])\n",
    "    \n",
    "  return words"
   ]
  },
  {
   "cell_type": "code",
   "execution_count": 118,
   "metadata": {},
   "outputs": [
    {
     "data": {
      "text/plain": [
       "1113"
      ]
     },
     "execution_count": 118,
     "metadata": {},
     "output_type": "execute_result"
    }
   ],
   "source": [
    "cleaned_words = cleaning(sentences)\n",
    "#print(cleaned_words)\n",
    "len(cleaned_words)"
   ]
  },
  {
   "cell_type": "code",
   "execution_count": 119,
   "metadata": {},
   "outputs": [],
   "source": [
    "def create_tokenizer(words, filters = '!\"#$%&()*+,-./:;<=>?@[\\]^_`{|}~'):\n",
    "  token = Tokenizer(filters = filters)\n",
    "  token.fit_on_texts(words)\n",
    "  return token"
   ]
  },
  {
   "cell_type": "code",
   "execution_count": 120,
   "metadata": {},
   "outputs": [],
   "source": [
    "def max_length(words):\n",
    "  return(len(max(words, key = len)))"
   ]
  },
  {
   "cell_type": "code",
   "execution_count": 121,
   "metadata": {},
   "outputs": [
    {
     "name": "stdout",
     "output_type": "stream",
     "text": [
      "Vocab Size = 492 and Maximum length = 28\n"
     ]
    }
   ],
   "source": [
    "word_tokenizer = create_tokenizer(cleaned_words)\n",
    "vocab_size = len(word_tokenizer.word_index) + 1\n",
    "max_length = max_length(cleaned_words)\n",
    "\n",
    "print(\"Vocab Size = %d and Maximum length = %d\" % (vocab_size, max_length))"
   ]
  },
  {
   "cell_type": "code",
   "execution_count": 122,
   "metadata": {},
   "outputs": [],
   "source": [
    "def encoding_doc(token, words):\n",
    "  return(token.texts_to_sequences(words))"
   ]
  },
  {
   "cell_type": "code",
   "execution_count": 123,
   "metadata": {},
   "outputs": [],
   "source": [
    "encoded_doc = encoding_doc(word_tokenizer, cleaned_words)"
   ]
  },
  {
   "cell_type": "code",
   "execution_count": 124,
   "metadata": {},
   "outputs": [],
   "source": [
    "def padding_doc(encoded_doc, max_length):\n",
    "  return(pad_sequences(encoded_doc, maxlen = max_length, padding = \"post\"))"
   ]
  },
  {
   "cell_type": "code",
   "execution_count": 125,
   "metadata": {},
   "outputs": [],
   "source": [
    "padded_doc = padding_doc(encoded_doc, max_length)"
   ]
  },
  {
   "cell_type": "code",
   "execution_count": 126,
   "metadata": {},
   "outputs": [
    {
     "data": {
      "text/plain": [
       "array([[ 25,  77, 332,   0,   0,   0,   0,   0,   0,   0,   0,   0,   0,\n",
       "          0,   0,   0,   0,   0,   0,   0,   0,   0,   0,   0,   0,   0,\n",
       "          0,   0],\n",
       "       [ 25,  77,   0,   0,   0,   0,   0,   0,   0,   0,   0,   0,   0,\n",
       "          0,   0,   0,   0,   0,   0,   0,   0,   0,   0,   0,   0,   0,\n",
       "          0,   0],\n",
       "       [  1,  25, 198, 181,   0,   0,   0,   0,   0,   0,   0,   0,   0,\n",
       "          0,   0,   0,   0,   0,   0,   0,   0,   0,   0,   0,   0,   0,\n",
       "          0,   0],\n",
       "       [ 51,  10,  77,  16,   0,   0,   0,   0,   0,   0,   0,   0,   0,\n",
       "          0,   0,   0,   0,   0,   0,   0,   0,   0,   0,   0,   0,   0,\n",
       "          0,   0],\n",
       "       [  8, 268,   4,  10,  30,   0,   0,   0,   0,   0,   0,   0,   0,\n",
       "          0,   0,   0,   0,   0,   0,   0,   0,   0,   0,   0,   0,   0,\n",
       "          0,   0]])"
      ]
     },
     "execution_count": 126,
     "metadata": {},
     "output_type": "execute_result"
    }
   ],
   "source": [
    "padded_doc[:5]"
   ]
  },
  {
   "cell_type": "code",
   "execution_count": 127,
   "metadata": {},
   "outputs": [
    {
     "name": "stdout",
     "output_type": "stream",
     "text": [
      "Shape of padded docs =  (1113, 28)\n"
     ]
    }
   ],
   "source": [
    "print(\"Shape of padded docs = \",padded_doc.shape)"
   ]
  },
  {
   "cell_type": "code",
   "execution_count": 128,
   "metadata": {},
   "outputs": [],
   "source": [
    "output_tokenizer = create_tokenizer(unique_intent, filters = '!\"#$%&()*+,-/:;<=>?@[\\]^`{|}~')"
   ]
  },
  {
   "cell_type": "code",
   "execution_count": 129,
   "metadata": {},
   "outputs": [
    {
     "data": {
      "text/plain": [
       "{'faq.application_process': 1,\n",
       " 'commonq.not_giving': 2,\n",
       " 'commonq.query': 3,\n",
       " 'faq.address_proof': 4,\n",
       " 'commonq.name': 5,\n",
       " 'contact.contact': 6,\n",
       " 'faq.aadhaar_missing': 7,\n",
       " 'faq.bad_service': 8,\n",
       " 'faq.borrow_limit': 9,\n",
       " 'commonq.assist': 10,\n",
       " 'faq.biz_category_missing': 11,\n",
       " 'faq.approval_time': 12,\n",
       " 'commonq.how': 13,\n",
       " 'faq.biz_simpler': 14,\n",
       " 'commonq.bot': 15,\n",
       " 'commonq.wait': 16,\n",
       " 'faq.apply_register': 17,\n",
       " 'commonq.just_details': 18,\n",
       " 'faq.biz_new': 19,\n",
       " 'faq.banking_option_missing': 20,\n",
       " 'faq.borrow_use': 21}"
      ]
     },
     "execution_count": 129,
     "metadata": {},
     "output_type": "execute_result"
    }
   ],
   "source": [
    "output_tokenizer.word_index"
   ]
  },
  {
   "cell_type": "code",
   "execution_count": 130,
   "metadata": {},
   "outputs": [],
   "source": [
    "encoded_output = encoding_doc(output_tokenizer, intent)"
   ]
  },
  {
   "cell_type": "code",
   "execution_count": 131,
   "metadata": {},
   "outputs": [],
   "source": [
    "import numpy as np\n",
    "encoded_output = np.array(encoded_output).reshape(len(encoded_output), 1)"
   ]
  },
  {
   "cell_type": "code",
   "execution_count": 132,
   "metadata": {},
   "outputs": [
    {
     "data": {
      "text/plain": [
       "(1113, 1)"
      ]
     },
     "execution_count": 132,
     "metadata": {},
     "output_type": "execute_result"
    }
   ],
   "source": [
    "encoded_output.shape"
   ]
  },
  {
   "cell_type": "code",
   "execution_count": 133,
   "metadata": {},
   "outputs": [],
   "source": [
    "def one_hot(encode):\n",
    "  o = OneHotEncoder(sparse = False)\n",
    "  return(o.fit_transform(encode))"
   ]
  },
  {
   "cell_type": "code",
   "execution_count": 134,
   "metadata": {},
   "outputs": [],
   "source": [
    "output_one_hot = one_hot(encoded_output)"
   ]
  },
  {
   "cell_type": "code",
   "execution_count": 135,
   "metadata": {},
   "outputs": [
    {
     "data": {
      "text/plain": [
       "(1113, 21)"
      ]
     },
     "execution_count": 135,
     "metadata": {},
     "output_type": "execute_result"
    }
   ],
   "source": [
    "output_one_hot.shape"
   ]
  },
  {
   "cell_type": "code",
   "execution_count": 136,
   "metadata": {},
   "outputs": [],
   "source": [
    "from sklearn.model_selection import train_test_split"
   ]
  },
  {
   "cell_type": "code",
   "execution_count": 137,
   "metadata": {},
   "outputs": [],
   "source": [
    "train_X, val_X, train_Y, val_Y = train_test_split(padded_doc, output_one_hot, shuffle = True, test_size = 0.1)"
   ]
  },
  {
   "cell_type": "code",
   "execution_count": 138,
   "metadata": {},
   "outputs": [
    {
     "name": "stdout",
     "output_type": "stream",
     "text": [
      "Shape of train_X = (1001, 28) and train_Y = (1001, 21)\n",
      "Shape of val_X = (112, 28) and val_Y = (112, 21)\n"
     ]
    }
   ],
   "source": [
    "print(\"Shape of train_X = %s and train_Y = %s\" % (train_X.shape, train_Y.shape))\n",
    "print(\"Shape of val_X = %s and val_Y = %s\" % (val_X.shape, val_Y.shape))"
   ]
  },
  {
   "cell_type": "code",
   "execution_count": 139,
   "metadata": {},
   "outputs": [],
   "source": [
    "def create_model(vocab_size, max_length):\n",
    "  model = Sequential()\n",
    "  model.add(Embedding(vocab_size, 128, input_length = max_length, trainable = False))\n",
    "  model.add(Bidirectional(LSTM(128)))\n",
    "  model.add(Dense(50,activation='tanh'))\n",
    "  model.add(Dense(32, activation = \"relu\"))\n",
    "  model.add(Dropout(0.25))\n",
    "  model.add(Dense(21, activation = \"softmax\"))\n",
    "  \n",
    "  return model"
   ]
  },
  {
   "cell_type": "code",
   "execution_count": 140,
   "metadata": {},
   "outputs": [
    {
     "name": "stdout",
     "output_type": "stream",
     "text": [
      "_________________________________________________________________\n",
      "Layer (type)                 Output Shape              Param #   \n",
      "=================================================================\n",
      "embedding_8 (Embedding)      (None, 28, 128)           62976     \n",
      "_________________________________________________________________\n",
      "bidirectional_8 (Bidirection (None, 256)               263168    \n",
      "_________________________________________________________________\n",
      "dense_13 (Dense)             (None, 50)                12850     \n",
      "_________________________________________________________________\n",
      "dense_14 (Dense)             (None, 32)                1632      \n",
      "_________________________________________________________________\n",
      "dropout_6 (Dropout)          (None, 32)                0         \n",
      "_________________________________________________________________\n",
      "dense_15 (Dense)             (None, 21)                693       \n",
      "=================================================================\n",
      "Total params: 341,319\n",
      "Trainable params: 278,343\n",
      "Non-trainable params: 62,976\n",
      "_________________________________________________________________\n"
     ]
    }
   ],
   "source": [
    "model = create_model(vocab_size, max_length)\n",
    "\n",
    "model.compile(loss = \"categorical_crossentropy\", optimizer = \"adam\", metrics = [\"accuracy\"])\n",
    "model.summary()"
   ]
  },
  {
   "cell_type": "code",
   "execution_count": 141,
   "metadata": {},
   "outputs": [
    {
     "name": "stdout",
     "output_type": "stream",
     "text": [
      "Train on 1001 samples, validate on 112 samples\n",
      "Epoch 1/100\n",
      "1001/1001 [==============================] - 6s 6ms/step - loss: 2.9342 - acc: 0.0949 - val_loss: 2.8137 - val_acc: 0.1161\n",
      "\n",
      "Epoch 00001: val_loss improved from inf to 2.81365, saving model to Chat_Model.h5\n",
      "Epoch 2/100\n",
      "1001/1001 [==============================] - 3s 3ms/step - loss: 2.7935 - acc: 0.1349 - val_loss: 2.6480 - val_acc: 0.1875\n",
      "\n",
      "Epoch 00002: val_loss improved from 2.81365 to 2.64804, saving model to Chat_Model.h5\n",
      "Epoch 3/100\n",
      "1001/1001 [==============================] - 2s 2ms/step - loss: 2.6330 - acc: 0.1888 - val_loss: 2.4736 - val_acc: 0.2054\n",
      "\n",
      "Epoch 00003: val_loss improved from 2.64804 to 2.47355, saving model to Chat_Model.h5\n",
      "Epoch 4/100\n",
      "1001/1001 [==============================] - 2s 2ms/step - loss: 2.5839 - acc: 0.2008 - val_loss: 2.4050 - val_acc: 0.2143\n",
      "\n",
      "Epoch 00004: val_loss improved from 2.47355 to 2.40502, saving model to Chat_Model.h5\n",
      "Epoch 5/100\n",
      "1001/1001 [==============================] - 2s 2ms/step - loss: 2.4163 - acc: 0.2188 - val_loss: 2.2271 - val_acc: 0.2946\n",
      "\n",
      "Epoch 00005: val_loss improved from 2.40502 to 2.22707, saving model to Chat_Model.h5\n",
      "Epoch 6/100\n",
      "1001/1001 [==============================] - 2s 2ms/step - loss: 2.1837 - acc: 0.2997 - val_loss: 1.9773 - val_acc: 0.4018\n",
      "\n",
      "Epoch 00006: val_loss improved from 2.22707 to 1.97726, saving model to Chat_Model.h5\n",
      "Epoch 7/100\n",
      "1001/1001 [==============================] - 3s 3ms/step - loss: 2.0064 - acc: 0.3596 - val_loss: 1.7733 - val_acc: 0.4643\n",
      "\n",
      "Epoch 00007: val_loss improved from 1.97726 to 1.77332, saving model to Chat_Model.h5\n",
      "Epoch 8/100\n",
      "1001/1001 [==============================] - 3s 3ms/step - loss: 1.8288 - acc: 0.4246 - val_loss: 1.6457 - val_acc: 0.4732\n",
      "\n",
      "Epoch 00008: val_loss improved from 1.77332 to 1.64573, saving model to Chat_Model.h5\n",
      "Epoch 9/100\n",
      "1001/1001 [==============================] - 2s 2ms/step - loss: 1.6800 - acc: 0.4865 - val_loss: 1.5974 - val_acc: 0.4732\n",
      "\n",
      "Epoch 00009: val_loss improved from 1.64573 to 1.59735, saving model to Chat_Model.h5\n",
      "Epoch 10/100\n",
      "1001/1001 [==============================] - 3s 3ms/step - loss: 1.6293 - acc: 0.5045 - val_loss: 1.4711 - val_acc: 0.5804\n",
      "\n",
      "Epoch 00010: val_loss improved from 1.59735 to 1.47114, saving model to Chat_Model.h5\n",
      "Epoch 11/100\n",
      "1001/1001 [==============================] - 3s 3ms/step - loss: 1.4704 - acc: 0.5365 - val_loss: 1.3206 - val_acc: 0.6071\n",
      "\n",
      "Epoch 00011: val_loss improved from 1.47114 to 1.32057, saving model to Chat_Model.h5\n",
      "Epoch 12/100\n",
      "1001/1001 [==============================] - 3s 3ms/step - loss: 1.4053 - acc: 0.5664 - val_loss: 1.3143 - val_acc: 0.5625\n",
      "\n",
      "Epoch 00012: val_loss improved from 1.32057 to 1.31429, saving model to Chat_Model.h5\n",
      "Epoch 13/100\n",
      "1001/1001 [==============================] - 3s 3ms/step - loss: 1.2630 - acc: 0.6174 - val_loss: 1.2579 - val_acc: 0.5893\n",
      "\n",
      "Epoch 00013: val_loss improved from 1.31429 to 1.25794, saving model to Chat_Model.h5\n",
      "Epoch 14/100\n",
      "1001/1001 [==============================] - 3s 3ms/step - loss: 1.2956 - acc: 0.5864 - val_loss: 1.1228 - val_acc: 0.6339\n",
      "\n",
      "Epoch 00014: val_loss improved from 1.25794 to 1.12284, saving model to Chat_Model.h5\n",
      "Epoch 15/100\n",
      "1001/1001 [==============================] - 3s 3ms/step - loss: 1.1264 - acc: 0.6623 - val_loss: 1.0345 - val_acc: 0.6875\n",
      "\n",
      "Epoch 00015: val_loss improved from 1.12284 to 1.03450, saving model to Chat_Model.h5\n",
      "Epoch 16/100\n",
      "1001/1001 [==============================] - 3s 3ms/step - loss: 1.0609 - acc: 0.6783 - val_loss: 0.9649 - val_acc: 0.6607\n",
      "\n",
      "Epoch 00016: val_loss improved from 1.03450 to 0.96494, saving model to Chat_Model.h5\n",
      "Epoch 17/100\n",
      "1001/1001 [==============================] - 3s 3ms/step - loss: 0.9876 - acc: 0.7083 - val_loss: 0.9573 - val_acc: 0.6607\n",
      "\n",
      "Epoch 00017: val_loss improved from 0.96494 to 0.95734, saving model to Chat_Model.h5\n",
      "Epoch 18/100\n",
      "1001/1001 [==============================] - 3s 3ms/step - loss: 0.9132 - acc: 0.7353 - val_loss: 0.8879 - val_acc: 0.7411\n",
      "\n",
      "Epoch 00018: val_loss improved from 0.95734 to 0.88790, saving model to Chat_Model.h5\n",
      "Epoch 19/100\n",
      "1001/1001 [==============================] - 3s 3ms/step - loss: 0.8785 - acc: 0.7243 - val_loss: 0.7742 - val_acc: 0.7857\n",
      "\n",
      "Epoch 00019: val_loss improved from 0.88790 to 0.77418, saving model to Chat_Model.h5\n",
      "Epoch 20/100\n",
      "1001/1001 [==============================] - 3s 3ms/step - loss: 0.8615 - acc: 0.7363 - val_loss: 0.7919 - val_acc: 0.7857\n",
      "\n",
      "Epoch 00020: val_loss did not improve from 0.77418\n",
      "Epoch 21/100\n",
      "1001/1001 [==============================] - 3s 3ms/step - loss: 0.8253 - acc: 0.7512 - val_loss: 0.7810 - val_acc: 0.7411\n",
      "\n",
      "Epoch 00021: val_loss did not improve from 0.77418\n",
      "Epoch 22/100\n",
      "1001/1001 [==============================] - 2s 2ms/step - loss: 0.7513 - acc: 0.7702 - val_loss: 0.6922 - val_acc: 0.7857\n",
      "\n",
      "Epoch 00022: val_loss improved from 0.77418 to 0.69219, saving model to Chat_Model.h5\n",
      "Epoch 23/100\n",
      "1001/1001 [==============================] - 3s 3ms/step - loss: 0.7279 - acc: 0.7842 - val_loss: 0.6630 - val_acc: 0.8125\n",
      "\n",
      "Epoch 00023: val_loss improved from 0.69219 to 0.66299, saving model to Chat_Model.h5\n",
      "Epoch 24/100\n",
      "1001/1001 [==============================] - 4s 4ms/step - loss: 0.6556 - acc: 0.8062 - val_loss: 0.6164 - val_acc: 0.8393\n",
      "\n",
      "Epoch 00024: val_loss improved from 0.66299 to 0.61639, saving model to Chat_Model.h5\n",
      "Epoch 25/100\n",
      "1001/1001 [==============================] - 4s 4ms/step - loss: 0.6755 - acc: 0.7852 - val_loss: 0.6404 - val_acc: 0.7946\n",
      "\n",
      "Epoch 00025: val_loss did not improve from 0.61639\n",
      "Epoch 26/100\n",
      "1001/1001 [==============================] - ETA: 0s - loss: 0.8196 - acc: 0.730 - 3s 3ms/step - loss: 0.8167 - acc: 0.7323 - val_loss: 0.6443 - val_acc: 0.8125\n",
      "\n",
      "Epoch 00026: val_loss did not improve from 0.61639\n",
      "Epoch 27/100\n",
      "1001/1001 [==============================] - 4s 4ms/step - loss: 0.7097 - acc: 0.7792 - val_loss: 0.5924 - val_acc: 0.8304\n",
      "\n",
      "Epoch 00027: val_loss improved from 0.61639 to 0.59241, saving model to Chat_Model.h5\n",
      "Epoch 28/100\n",
      "1001/1001 [==============================] - 3s 3ms/step - loss: 0.5790 - acc: 0.8292 - val_loss: 0.5807 - val_acc: 0.8393\n",
      "\n",
      "Epoch 00028: val_loss improved from 0.59241 to 0.58065, saving model to Chat_Model.h5\n",
      "Epoch 29/100\n",
      "1001/1001 [==============================] - 3s 3ms/step - loss: 0.5589 - acc: 0.8312 - val_loss: 0.5904 - val_acc: 0.8482\n",
      "\n",
      "Epoch 00029: val_loss did not improve from 0.58065\n",
      "Epoch 30/100\n",
      "1001/1001 [==============================] - 5s 5ms/step - loss: 0.5309 - acc: 0.8432 - val_loss: 0.5171 - val_acc: 0.8661\n",
      "\n",
      "Epoch 00030: val_loss improved from 0.58065 to 0.51712, saving model to Chat_Model.h5\n",
      "Epoch 31/100\n",
      "1001/1001 [==============================] - 4s 4ms/step - loss: 0.5437 - acc: 0.8292 - val_loss: 0.6532 - val_acc: 0.8125\n",
      "\n",
      "Epoch 00031: val_loss did not improve from 0.51712\n",
      "Epoch 32/100\n",
      "1001/1001 [==============================] - 4s 4ms/step - loss: 0.5076 - acc: 0.8372 - val_loss: 0.5153 - val_acc: 0.8571\n",
      "\n",
      "Epoch 00032: val_loss improved from 0.51712 to 0.51526, saving model to Chat_Model.h5\n",
      "Epoch 33/100\n",
      "1001/1001 [==============================] - 4s 4ms/step - loss: 0.4979 - acc: 0.8511 - val_loss: 0.5695 - val_acc: 0.8304\n",
      "\n",
      "Epoch 00033: val_loss did not improve from 0.51526\n",
      "Epoch 34/100\n",
      "1001/1001 [==============================] - 4s 4ms/step - loss: 0.4826 - acc: 0.8531 - val_loss: 0.5526 - val_acc: 0.8393\n",
      "\n",
      "Epoch 00034: val_loss did not improve from 0.51526\n",
      "Epoch 35/100\n",
      "1001/1001 [==============================] - 4s 4ms/step - loss: 0.4516 - acc: 0.8511 - val_loss: 0.5183 - val_acc: 0.8571\n",
      "\n",
      "Epoch 00035: val_loss did not improve from 0.51526\n",
      "Epoch 36/100\n",
      "1001/1001 [==============================] - 4s 4ms/step - loss: 0.4107 - acc: 0.8711 - val_loss: 0.4928 - val_acc: 0.8750\n",
      "\n",
      "Epoch 00036: val_loss improved from 0.51526 to 0.49279, saving model to Chat_Model.h5\n",
      "Epoch 37/100\n",
      "1001/1001 [==============================] - 5s 5ms/step - loss: 0.3940 - acc: 0.8691 - val_loss: 0.4693 - val_acc: 0.8839\n",
      "\n",
      "Epoch 00037: val_loss improved from 0.49279 to 0.46927, saving model to Chat_Model.h5\n",
      "Epoch 38/100\n",
      "1001/1001 [==============================] - 4s 4ms/step - loss: 0.3895 - acc: 0.8731 - val_loss: 0.4611 - val_acc: 0.8571\n",
      "\n",
      "Epoch 00038: val_loss improved from 0.46927 to 0.46107, saving model to Chat_Model.h5\n",
      "Epoch 39/100\n",
      "1001/1001 [==============================] - 4s 4ms/step - loss: 0.3832 - acc: 0.8851 - val_loss: 0.4413 - val_acc: 0.8839\n",
      "\n",
      "Epoch 00039: val_loss improved from 0.46107 to 0.44125, saving model to Chat_Model.h5\n",
      "Epoch 40/100\n",
      "1001/1001 [==============================] - 4s 4ms/step - loss: 0.5274 - acc: 0.8432 - val_loss: 0.4949 - val_acc: 0.8571\n",
      "\n",
      "Epoch 00040: val_loss did not improve from 0.44125\n",
      "Epoch 41/100\n",
      "1001/1001 [==============================] - 4s 4ms/step - loss: 0.3828 - acc: 0.8751 - val_loss: 0.4084 - val_acc: 0.8839\n",
      "\n",
      "Epoch 00041: val_loss improved from 0.44125 to 0.40836, saving model to Chat_Model.h5\n",
      "Epoch 42/100\n",
      "1001/1001 [==============================] - 4s 4ms/step - loss: 0.3850 - acc: 0.8801 - val_loss: 0.4362 - val_acc: 0.8929\n",
      "\n",
      "Epoch 00042: val_loss did not improve from 0.40836\n",
      "Epoch 43/100\n",
      "1001/1001 [==============================] - 4s 4ms/step - loss: 0.3154 - acc: 0.9081 - val_loss: 0.4409 - val_acc: 0.9018\n",
      "\n",
      "Epoch 00043: val_loss did not improve from 0.40836\n",
      "Epoch 44/100\n",
      "1001/1001 [==============================] - 4s 4ms/step - loss: 0.2799 - acc: 0.9191 - val_loss: 0.4245 - val_acc: 0.8839A: 0s - loss: 0.2757 - acc\n",
      "\n",
      "Epoch 00044: val_loss did not improve from 0.40836\n",
      "Epoch 45/100\n",
      "1001/1001 [==============================] - 4s 4ms/step - loss: 0.2905 - acc: 0.9111 - val_loss: 0.4217 - val_acc: 0.8839\n",
      "\n",
      "Epoch 00045: val_loss did not improve from 0.40836\n",
      "Epoch 46/100\n",
      "1001/1001 [==============================] - 4s 4ms/step - loss: 0.3526 - acc: 0.8871 - val_loss: 0.4465 - val_acc: 0.8839\n",
      "\n",
      "Epoch 00046: val_loss did not improve from 0.40836\n",
      "Epoch 47/100\n",
      "1001/1001 [==============================] - 4s 4ms/step - loss: 0.3112 - acc: 0.9051 - val_loss: 0.4239 - val_acc: 0.9107\n",
      "\n",
      "Epoch 00047: val_loss did not improve from 0.40836\n",
      "Epoch 48/100\n",
      "1001/1001 [==============================] - 4s 4ms/step - loss: 0.2912 - acc: 0.9061 - val_loss: 0.4626 - val_acc: 0.8661\n",
      "\n",
      "Epoch 00048: val_loss did not improve from 0.40836\n",
      "Epoch 49/100\n",
      "1001/1001 [==============================] - 4s 4ms/step - loss: 0.3718 - acc: 0.8851 - val_loss: 0.4167 - val_acc: 0.9107\n",
      "\n",
      "Epoch 00049: val_loss did not improve from 0.40836\n",
      "Epoch 50/100\n",
      "1001/1001 [==============================] - 3s 3ms/step - loss: 0.2845 - acc: 0.9031 - val_loss: 0.4084 - val_acc: 0.9107\n",
      "\n",
      "Epoch 00050: val_loss did not improve from 0.40836\n",
      "Epoch 51/100\n",
      "1001/1001 [==============================] - 4s 4ms/step - loss: 0.2550 - acc: 0.9231 - val_loss: 0.3562 - val_acc: 0.9196\n",
      "\n",
      "Epoch 00051: val_loss improved from 0.40836 to 0.35619, saving model to Chat_Model.h5\n",
      "Epoch 52/100\n",
      "1001/1001 [==============================] - 3s 3ms/step - loss: 0.2438 - acc: 0.9211 - val_loss: 0.3729 - val_acc: 0.9107\n",
      "\n",
      "Epoch 00052: val_loss did not improve from 0.35619\n",
      "Epoch 53/100\n",
      "1001/1001 [==============================] - 4s 4ms/step - loss: 0.2260 - acc: 0.9271 - val_loss: 0.4092 - val_acc: 0.9018\n",
      "\n",
      "Epoch 00053: val_loss did not improve from 0.35619\n",
      "Epoch 54/100\n",
      "1001/1001 [==============================] - 4s 4ms/step - loss: 0.1965 - acc: 0.9331 - val_loss: 0.3923 - val_acc: 0.9196\n",
      "\n",
      "Epoch 00054: val_loss did not improve from 0.35619\n",
      "Epoch 55/100\n",
      "1001/1001 [==============================] - 4s 4ms/step - loss: 0.2077 - acc: 0.9371 - val_loss: 0.4138 - val_acc: 0.8929\n",
      "\n",
      "Epoch 00055: val_loss did not improve from 0.35619\n",
      "Epoch 56/100\n",
      "1001/1001 [==============================] - 4s 4ms/step - loss: 0.2028 - acc: 0.9381 - val_loss: 0.3726 - val_acc: 0.9018\n",
      "\n",
      "Epoch 00056: val_loss did not improve from 0.35619\n",
      "Epoch 57/100\n",
      "1001/1001 [==============================] - 5s 5ms/step - loss: 0.3305 - acc: 0.9101 - val_loss: 1.1165 - val_acc: 0.7679\n",
      "\n",
      "Epoch 00057: val_loss did not improve from 0.35619\n",
      "Epoch 58/100\n",
      "1001/1001 [==============================] - 4s 4ms/step - loss: 0.3596 - acc: 0.8981 - val_loss: 0.4930 - val_acc: 0.8839\n",
      "\n",
      "Epoch 00058: val_loss did not improve from 0.35619\n",
      "Epoch 59/100\n",
      "1001/1001 [==============================] - 3s 3ms/step - loss: 0.2367 - acc: 0.9231 - val_loss: 0.4546 - val_acc: 0.8929\n",
      "\n",
      "Epoch 00059: val_loss did not improve from 0.35619\n",
      "Epoch 60/100\n",
      "1001/1001 [==============================] - 4s 4ms/step - loss: 0.1918 - acc: 0.9471 - val_loss: 0.3922 - val_acc: 0.9018\n",
      "\n",
      "Epoch 00060: val_loss did not improve from 0.35619\n",
      "Epoch 61/100\n",
      "1001/1001 [==============================] - 4s 4ms/step - loss: 0.1891 - acc: 0.9371 - val_loss: 0.4783 - val_acc: 0.8839\n",
      "\n",
      "Epoch 00061: val_loss did not improve from 0.35619\n",
      "Epoch 62/100\n",
      "1001/1001 [==============================] - 4s 4ms/step - loss: 0.1778 - acc: 0.9491 - val_loss: 0.4214 - val_acc: 0.9018\n",
      "\n",
      "Epoch 00062: val_loss did not improve from 0.35619\n",
      "Epoch 63/100\n",
      "1001/1001 [==============================] - 3s 3ms/step - loss: 0.1798 - acc: 0.9371 - val_loss: 0.3793 - val_acc: 0.9286\n",
      "\n",
      "Epoch 00063: val_loss did not improve from 0.35619\n",
      "Epoch 64/100\n",
      "1001/1001 [==============================] - 4s 4ms/step - loss: 0.1633 - acc: 0.9570 - val_loss: 0.3682 - val_acc: 0.9286\n",
      "\n",
      "Epoch 00064: val_loss did not improve from 0.35619\n",
      "Epoch 65/100\n",
      "1001/1001 [==============================] - 4s 4ms/step - loss: 0.1621 - acc: 0.9461 - val_loss: 0.4203 - val_acc: 0.9018\n",
      "\n",
      "Epoch 00065: val_loss did not improve from 0.35619\n",
      "Epoch 66/100\n",
      "1001/1001 [==============================] - 4s 4ms/step - loss: 0.1685 - acc: 0.9421 - val_loss: 0.4049 - val_acc: 0.9018\n",
      "\n",
      "Epoch 00066: val_loss did not improve from 0.35619\n",
      "Epoch 67/100\n",
      "1001/1001 [==============================] - 4s 4ms/step - loss: 0.1673 - acc: 0.9471 - val_loss: 0.3993 - val_acc: 0.9107\n",
      "\n",
      "Epoch 00067: val_loss did not improve from 0.35619\n",
      "Epoch 68/100\n",
      "1001/1001 [==============================] - 4s 4ms/step - loss: 0.1928 - acc: 0.9441 - val_loss: 0.8112 - val_acc: 0.8661\n",
      "\n",
      "Epoch 00068: val_loss did not improve from 0.35619\n",
      "Epoch 69/100\n",
      "1001/1001 [==============================] - 4s 4ms/step - loss: 0.2511 - acc: 0.9211 - val_loss: 0.3994 - val_acc: 0.9018\n",
      "\n",
      "Epoch 00069: val_loss did not improve from 0.35619\n",
      "Epoch 70/100\n",
      "1001/1001 [==============================] - 4s 4ms/step - loss: 0.1579 - acc: 0.9411 - val_loss: 0.3861 - val_acc: 0.9107\n",
      "\n",
      "Epoch 00070: val_loss did not improve from 0.35619\n",
      "Epoch 71/100\n",
      "1001/1001 [==============================] - 4s 4ms/step - loss: 0.1523 - acc: 0.9540 - val_loss: 0.4309 - val_acc: 0.8929\n",
      "\n",
      "Epoch 00071: val_loss did not improve from 0.35619\n",
      "Epoch 72/100\n",
      "1001/1001 [==============================] - 4s 4ms/step - loss: 0.1514 - acc: 0.9471 - val_loss: 0.4607 - val_acc: 0.8929\n",
      "\n",
      "Epoch 00072: val_loss did not improve from 0.35619\n",
      "Epoch 73/100\n",
      "1001/1001 [==============================] - 4s 4ms/step - loss: 0.1239 - acc: 0.9610 - val_loss: 0.4183 - val_acc: 0.9107\n",
      "\n",
      "Epoch 00073: val_loss did not improve from 0.35619\n",
      "Epoch 74/100\n",
      "1001/1001 [==============================] - 4s 4ms/step - loss: 0.4821 - acc: 0.8911 - val_loss: 0.7224 - val_acc: 0.8214\n",
      "\n",
      "Epoch 00074: val_loss did not improve from 0.35619\n",
      "Epoch 75/100\n",
      "1001/1001 [==============================] - 4s 4ms/step - loss: 0.3462 - acc: 0.8931 - val_loss: 0.4441 - val_acc: 0.8929\n",
      "\n",
      "Epoch 00075: val_loss did not improve from 0.35619\n",
      "Epoch 76/100\n",
      "1001/1001 [==============================] - 4s 4ms/step - loss: 0.1975 - acc: 0.9481 - val_loss: 0.3846 - val_acc: 0.9286\n",
      "\n",
      "Epoch 00076: val_loss did not improve from 0.35619\n",
      "Epoch 77/100\n",
      "1001/1001 [==============================] - 4s 4ms/step - loss: 0.1523 - acc: 0.9530 - val_loss: 0.4129 - val_acc: 0.9196\n",
      "\n",
      "Epoch 00077: val_loss did not improve from 0.35619\n",
      "Epoch 78/100\n",
      "1001/1001 [==============================] - 4s 4ms/step - loss: 0.1366 - acc: 0.9610 - val_loss: 0.4459 - val_acc: 0.8750\n",
      "\n",
      "Epoch 00078: val_loss did not improve from 0.35619\n",
      "Epoch 79/100\n",
      "1001/1001 [==============================] - 4s 4ms/step - loss: 0.1366 - acc: 0.9580 - val_loss: 0.4294 - val_acc: 0.9107\n",
      "\n",
      "Epoch 00079: val_loss did not improve from 0.35619\n",
      "Epoch 80/100\n",
      "1001/1001 [==============================] - 4s 4ms/step - loss: 0.1269 - acc: 0.9540 - val_loss: 0.4059 - val_acc: 0.9107\n",
      "\n",
      "Epoch 00080: val_loss did not improve from 0.35619\n",
      "Epoch 81/100\n",
      "1001/1001 [==============================] - 4s 4ms/step - loss: 0.1046 - acc: 0.9740 - val_loss: 0.4462 - val_acc: 0.9018\n",
      "\n",
      "Epoch 00081: val_loss did not improve from 0.35619\n",
      "Epoch 82/100\n",
      "1001/1001 [==============================] - 4s 4ms/step - loss: 0.1035 - acc: 0.9660 - val_loss: 0.4345 - val_acc: 0.9107\n",
      "\n",
      "Epoch 00082: val_loss did not improve from 0.35619\n",
      "Epoch 83/100\n",
      "1001/1001 [==============================] - 4s 4ms/step - loss: 0.1006 - acc: 0.9750 - val_loss: 0.4260 - val_acc: 0.9018\n",
      "\n",
      "Epoch 00083: val_loss did not improve from 0.35619\n",
      "Epoch 84/100\n",
      "1001/1001 [==============================] - 4s 4ms/step - loss: 0.1039 - acc: 0.9660 - val_loss: 0.4624 - val_acc: 0.8929\n",
      "\n",
      "Epoch 00084: val_loss did not improve from 0.35619\n",
      "Epoch 85/100\n",
      "1001/1001 [==============================] - 4s 4ms/step - loss: 0.1159 - acc: 0.9620 - val_loss: 0.4299 - val_acc: 0.9018\n",
      "\n",
      "Epoch 00085: val_loss did not improve from 0.35619\n",
      "Epoch 86/100\n",
      "1001/1001 [==============================] - 4s 4ms/step - loss: 0.1112 - acc: 0.9590 - val_loss: 0.4090 - val_acc: 0.9196\n",
      "\n",
      "Epoch 00086: val_loss did not improve from 0.35619\n",
      "Epoch 87/100\n",
      "1001/1001 [==============================] - 4s 4ms/step - loss: 0.1089 - acc: 0.9670 - val_loss: 0.4120 - val_acc: 0.9286\n",
      "\n",
      "Epoch 00087: val_loss did not improve from 0.35619\n",
      "Epoch 88/100\n",
      "1001/1001 [==============================] - 3s 3ms/step - loss: 0.1083 - acc: 0.9590 - val_loss: 0.4181 - val_acc: 0.8839\n",
      "\n",
      "Epoch 00088: val_loss did not improve from 0.35619\n",
      "Epoch 89/100\n",
      "1001/1001 [==============================] - 4s 4ms/step - loss: 0.0995 - acc: 0.9650 - val_loss: 0.4819 - val_acc: 0.8929\n",
      "\n",
      "Epoch 00089: val_loss did not improve from 0.35619\n",
      "Epoch 90/100\n",
      "1001/1001 [==============================] - 3s 3ms/step - loss: 0.1018 - acc: 0.9690 - val_loss: 0.4757 - val_acc: 0.9018\n",
      "\n",
      "Epoch 00090: val_loss did not improve from 0.35619\n",
      "Epoch 91/100\n",
      "1001/1001 [==============================] - 4s 4ms/step - loss: 0.1043 - acc: 0.9610 - val_loss: 0.4151 - val_acc: 0.9107\n",
      "\n",
      "Epoch 00091: val_loss did not improve from 0.35619\n",
      "Epoch 92/100\n",
      "1001/1001 [==============================] - 4s 4ms/step - loss: 0.0913 - acc: 0.9700 - val_loss: 0.4352 - val_acc: 0.9196\n",
      "\n",
      "Epoch 00092: val_loss did not improve from 0.35619\n",
      "Epoch 93/100\n",
      "1001/1001 [==============================] - 4s 4ms/step - loss: 0.0808 - acc: 0.9750 - val_loss: 0.3777 - val_acc: 0.9286\n",
      "\n",
      "Epoch 00093: val_loss did not improve from 0.35619\n",
      "Epoch 94/100\n",
      "1001/1001 [==============================] - 3s 3ms/step - loss: 0.0829 - acc: 0.9730 - val_loss: 0.4329 - val_acc: 0.9107\n",
      "\n",
      "Epoch 00094: val_loss did not improve from 0.35619\n",
      "Epoch 95/100\n",
      "1001/1001 [==============================] - 4s 4ms/step - loss: 0.0833 - acc: 0.9740 - val_loss: 0.4053 - val_acc: 0.9286\n",
      "\n",
      "Epoch 00095: val_loss did not improve from 0.35619\n",
      "Epoch 96/100\n",
      "1001/1001 [==============================] - 4s 4ms/step - loss: 0.0715 - acc: 0.9820 - val_loss: 0.4393 - val_acc: 0.9107\n",
      "\n",
      "Epoch 00096: val_loss did not improve from 0.35619\n",
      "Epoch 97/100\n",
      "1001/1001 [==============================] - 3s 3ms/step - loss: 0.0788 - acc: 0.9800 - val_loss: 0.4072 - val_acc: 0.9375\n",
      "\n",
      "Epoch 00097: val_loss did not improve from 0.35619\n",
      "Epoch 98/100\n",
      "1001/1001 [==============================] - 3s 3ms/step - loss: 0.0657 - acc: 0.9850 - val_loss: 0.4484 - val_acc: 0.9107\n",
      "\n",
      "Epoch 00098: val_loss did not improve from 0.35619\n",
      "Epoch 99/100\n",
      "1001/1001 [==============================] - 4s 4ms/step - loss: 0.0746 - acc: 0.9750 - val_loss: 0.4579 - val_acc: 0.9107\n",
      "\n",
      "Epoch 00099: val_loss did not improve from 0.35619\n",
      "Epoch 100/100\n",
      "1001/1001 [==============================] - 4s 4ms/step - loss: 0.0773 - acc: 0.9710 - val_loss: 0.4107 - val_acc: 0.9286\n",
      "\n",
      "Epoch 00100: val_loss did not improve from 0.35619\n"
     ]
    }
   ],
   "source": [
    "filename = 'Chat_Model.h5'\n",
    "checkpoint = ModelCheckpoint(filename, monitor='val_loss', verbose=1, save_best_only=True, mode='min')\n",
    "\n",
    "hist = model.fit(train_X, train_Y, epochs = 100, batch_size = 32, validation_data = (val_X, val_Y), callbacks = [checkpoint])"
   ]
  },
  {
   "cell_type": "code",
   "execution_count": 144,
   "metadata": {},
   "outputs": [],
   "source": [
    "model.save(\"Chat_Model.h5\")"
   ]
  },
  {
   "cell_type": "markdown",
   "metadata": {},
   "source": [
    "### Loading ChatBot Model"
   ]
  },
  {
   "cell_type": "code",
   "execution_count": null,
   "metadata": {},
   "outputs": [],
   "source": []
  },
  {
   "cell_type": "code",
   "execution_count": 178,
   "metadata": {},
   "outputs": [],
   "source": [
    "model = load_model(\"Chat_Model.h5\")"
   ]
  },
  {
   "cell_type": "markdown",
   "metadata": {},
   "source": [
    "### Predicting The result"
   ]
  },
  {
   "cell_type": "code",
   "execution_count": 179,
   "metadata": {},
   "outputs": [],
   "source": [
    "def predictions(text):\n",
    "  clean = re.sub(r'[^ a-z A-Z 0-9]', \" \", text)\n",
    "  test_word = word_tokenize(clean)\n",
    "  test_word = [w.lower() for w in test_word]\n",
    "  test_ls = word_tokenizer.texts_to_sequences(test_word)\n",
    "  print(test_word)\n",
    "  #Check for unknown words\n",
    "  if [] in test_ls:\n",
    "    test_ls = list(filter(None, test_ls))\n",
    "  test_ls = np.array(test_ls).reshape(1, len(test_ls))\n",
    "  x = padding_doc(test_ls, max_length)\n",
    "  pred = model.predict_proba(x)\n",
    "  return pred"
   ]
  },
  {
   "cell_type": "code",
   "execution_count": 180,
   "metadata": {},
   "outputs": [],
   "source": [
    "def get_final_output(pred, classes):\n",
    "  predictions = pred[0]\n",
    " \n",
    "  classes = np.array(classes)\n",
    "  ids = np.argsort(-predictions)\n",
    "  classes = classes[ids]\n",
    "  predictions = -np.sort(-predictions)\n",
    " \n",
    "  #for i in range(pred.shape[1]):\n",
    "    #print(\"%s has confidence = %s\" % (classes[i], (predictions[i])))\n",
    "    \n",
    "  #print(predictions[0])\n",
    "  return classes"
   ]
  },
  {
   "cell_type": "code",
   "execution_count": 181,
   "metadata": {},
   "outputs": [
    {
     "name": "stdin",
     "output_type": "stream",
     "text": [
      " why are you here?\n"
     ]
    },
    {
     "name": "stdout",
     "output_type": "stream",
     "text": [
      "['why', 'are', 'you', 'here']\n",
      "commonQ.bot\n"
     ]
    },
    {
     "data": {
      "image/png": "[encoded data removed]",
      "text/plain": [
       "<Figure size 432x288 with 1 Axes>"
      ]
     },
     "metadata": {
      "needs_background": "light"
     },
     "output_type": "display_data"
    }
   ],
   "source": [
    "from matplotlib import pyplot as plt\n",
    "import numpy as np\n",
    "text = input()\n",
    "pred = predictions(text)\n",
    "res = get_final_output(pred, unique_intent)\n",
    "plt.scatter(pred,Intents)\n",
    "print(res[0])"
   ]
  },
  {
   "cell_type": "code",
   "execution_count": 183,
   "metadata": {},
   "outputs": [
    {
     "data": {
      "text/plain": [
       "['faq.application_process',\n",
       " 'commonq.not_giving',\n",
       " 'commonq.query',\n",
       " 'faq.address_proof',\n",
       " 'commonq.name',\n",
       " 'contact.contact',\n",
       " 'faq.aadhaar_missing',\n",
       " 'faq.bad_service',\n",
       " 'faq.borrow_limit',\n",
       " 'commonq.assist',\n",
       " 'faq.biz_category_missing',\n",
       " 'faq.approval_time',\n",
       " 'commonq.how',\n",
       " 'faq.biz_simpler',\n",
       " 'commonq.bot',\n",
       " 'commonq.wait',\n",
       " 'faq.apply_register',\n",
       " 'commonq.just_details',\n",
       " 'faq.biz_new',\n",
       " 'faq.banking_option_missing',\n",
       " 'faq.borrow_use']"
      ]
     },
     "execution_count": 183,
     "metadata": {},
     "output_type": "execute_result"
    }
   ],
   "source": [
    "Intents"
   ]
  },
  {
   "cell_type": "code",
   "execution_count": null,
   "metadata": {},
   "outputs": [],
   "source": []
  },
  {
   "cell_type": "code",
   "execution_count": null,
   "metadata": {},
   "outputs": [],
   "source": []
  },
  {
   "cell_type": "code",
   "execution_count": null,
   "metadata": {},
   "outputs": [],
   "source": []
  }
 ],
 "metadata": {
  "kernelspec": {
   "display_name": "Python 3",
   "language": "python",
   "name": "python3"
  },
  "language_info": {
   "codemirror_mode": {
    "name": "ipython",
    "version": 3
   },
   "file_extension": ".py",
   "mimetype": "text/x-python",
   "name": "python",
   "nbconvert_exporter": "python",
   "pygments_lexer": "ipython3",
   "version": "3.7.3"
  }
 },
 "nbformat": 4,
 "nbformat_minor": 4
}
